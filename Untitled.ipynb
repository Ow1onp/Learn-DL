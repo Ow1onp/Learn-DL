{
 "cells": [
  {
   "cell_type": "code",
   "execution_count": 8,
   "id": "b01b65c9-af5b-4d15-aaa3-503675689936",
   "metadata": {},
   "outputs": [
    {
     "name": "stdout",
     "output_type": "stream",
     "text": [
      "vec1: tensor([1, 2, 3])\n",
      "vec2: tensor([4, 5, 6])\n"
     ]
    }
   ],
   "source": [
    "import torch\n",
    "\n",
    "# 创建两个向量\n",
    "vec1 = torch.tensor([1, 2, 3])\n",
    "vec2 = torch.tensor([4, 5, 6])\n",
    "\n",
    "# 打印这些向量\n",
    "print(\"vec1:\", vec1)\n",
    "print(\"vec2:\", vec2)"
   ]
  },
  {
   "cell_type": "code",
   "execution_count": 10,
   "id": "80269c38-2870-4b90-8d45-8d714e605206",
   "metadata": {},
   "outputs": [
    {
     "name": "stdout",
     "output_type": "stream",
     "text": [
      "vec1 + vec2: tensor([5, 7, 9])\n",
      "vec1 - vec2: tensor([-3, -3, -3])\n"
     ]
    }
   ],
   "source": [
    "# 向量加法\n",
    "vec_add = vec1 + vec2\n",
    "\n",
    "# 向量减法\n",
    "vec_sub = vec1 - vec2\n",
    "\n",
    "print(\"vec1 + vec2:\", vec_add)\n",
    "print(\"vec1 - vec2:\", vec_sub)"
   ]
  },
  {
   "cell_type": "code",
   "execution_count": 11,
   "id": "985397ec-010b-4220-a139-31efe0e85465",
   "metadata": {},
   "outputs": [
    {
     "name": "stdout",
     "output_type": "stream",
     "text": [
      "2 * vec1: tensor([2, 4, 6])\n"
     ]
    }
   ],
   "source": [
    "# 数乘\n",
    "scalar = 2\n",
    "vec_scalar_mul = vec1 * scalar\n",
    "\n",
    "print(f\"{scalar} * vec1:\", vec_scalar_mul)"
   ]
  },
  {
   "cell_type": "code",
   "execution_count": 12,
   "id": "125ebf18-d1bb-490c-a5e7-306c81b43cc3",
   "metadata": {},
   "outputs": [
    {
     "name": "stdout",
     "output_type": "stream",
     "text": [
      "vec1 . vec2: tensor(32)\n"
     ]
    }
   ],
   "source": [
    "# 点积\n",
    "dot_product = torch.dot(vec1, vec2)\n",
    "\n",
    "print(\"vec1 . vec2:\", dot_product)"
   ]
  },
  {
   "cell_type": "code",
   "execution_count": 15,
   "id": "eec9cbc5-6a12-4bce-97b0-4c74db3a7f25",
   "metadata": {},
   "outputs": [
    {
     "name": "stdout",
     "output_type": "stream",
     "text": [
      "||vec1||2: tensor(6.)\n"
     ]
    }
   ],
   "source": [
    "# 将向量转换为浮点型\n",
    "vec1_float = vec1.float()\n",
    "\n",
    "# 现在计算 L2 范数\n",
    "norm_vec1 = torch.norm(vec1_float, p=1)\n",
    "\n",
    "print(\"||vec1||2:\", norm_vec1)"
   ]
  },
  {
   "cell_type": "code",
   "execution_count": null,
   "id": "7e58c413-0b9c-4480-a341-782e0af6ac98",
   "metadata": {},
   "outputs": [],
   "source": []
  }
 ],
 "metadata": {
  "kernelspec": {
   "display_name": "Python 3 (ipykernel)",
   "language": "python",
   "name": "python3"
  },
  "language_info": {
   "codemirror_mode": {
    "name": "ipython",
    "version": 3
   },
   "file_extension": ".py",
   "mimetype": "text/x-python",
   "name": "python",
   "nbconvert_exporter": "python",
   "pygments_lexer": "ipython3",
   "version": "3.9.15"
  }
 },
 "nbformat": 4,
 "nbformat_minor": 5
}
